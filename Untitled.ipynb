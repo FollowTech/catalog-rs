{
 "cells": [
  {
   "cell_type": "code",
   "execution_count": 1,
   "id": "c7da832c-e8ed-427d-acd5-bbdb69b1dc6a",
   "metadata": {},
   "outputs": [
    {
     "name": "stdout",
     "output_type": "stream",
     "text": [
      "\"Jedi\", \"WASP\", \"Selek15\", \"Pinehills\", \"Red\", \"Hawk\", \"Bandon\", \"Northbay\", \"Selek\", \"G5\", \"Mockingbird\", \"Hellcat\", \"Shuri\", \"Moonknight\", \"Watchmen\", \"SOUTH\", \"PEAK\", \"Broadmoor\", \"Antman\", \"Cyborg\", \"Millennio\", \"Alienware\", \"Odin\", \"Stradale\", \"Odin\", \"Infinity\", \"Scorpio\", \"Arches\", \"Oasis\", \"Quake\", \"Sentry\", \"POLARIS\"\n"
     ]
    }
   ],
   "source": [
    "sentence = \"Jedi WASP Selek15 Pinehills Red Hawk Bandon Northbay Selek G5 Mockingbird Hellcat Shuri Moonknight Watchmen SOUTH PEAK Broadmoor Antman Cyborg Millennio Alienware Odin Stradale Odin Infinity Scorpio Arches Oasis Quake Sentry POLARIS\"\n",
    "words_with_quotes = ['\"' + word + '\"' for word in sentence.split()]\n",
    "result = ', '.join(words_with_quotes)\n",
    "print(result)"
   ]
  },
  {
   "cell_type": "code",
   "execution_count": null,
   "id": "3249670c-1957-4678-9c83-6e2bbf358857",
   "metadata": {},
   "outputs": [],
   "source": []
  }
 ],
 "metadata": {
  "kernelspec": {
   "display_name": "Python 3 (ipykernel)",
   "language": "python",
   "name": "python3"
  },
  "language_info": {
   "codemirror_mode": {
    "name": "ipython",
    "version": 3
   },
   "file_extension": ".py",
   "mimetype": "text/x-python",
   "name": "python",
   "nbconvert_exporter": "python",
   "pygments_lexer": "ipython3",
   "version": "3.9.13"
  }
 },
 "nbformat": 4,
 "nbformat_minor": 5
}
